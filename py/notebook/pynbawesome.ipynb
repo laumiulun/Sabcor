{
 "metadata": {
  "language_info": {
   "codemirror_mode": {
    "name": "ipython",
    "version": 3
   },
   "file_extension": ".py",
   "mimetype": "text/x-python",
   "name": "python",
   "nbconvert_exporter": "python",
   "pygments_lexer": "ipython3",
   "version": "3.7.6-final"
  },
  "orig_nbformat": 2,
  "kernelspec": {
   "name": "python3",
   "display_name": "Python 3",
   "language": "python"
  }
 },
 "nbformat": 4,
 "nbformat_minor": 2,
 "cells": [
  {
   "cell_type": "code",
   "execution_count": null,
   "metadata": {},
   "outputs": [],
   "source": [
    "while True:\n",
    "    try:\n",
    "        x = int(input(\"Please enter a number: \"))\n",
    "        break\n",
    "    except ValueError:\n",
    "        print(\"Oops!  That was no valid number.  Try again...\")"
   ]
  },
  {
   "cell_type": "code",
   "execution_count": 4,
   "metadata": {},
   "outputs": [
    {
     "output_type": "stream",
     "name": "stdout",
     "text": [
      "H is an excellent choice. The function continues\ngoto 38\ndebug in mucal: a K edge 0.0144\n0 ak = 2.44964\nbsum = 2.44964\n\n1 ak = -3.34953\nbsum = 14.203772644816581\n\n2 ak = -0.047137\nbsum = -0.8476208266023573\n\n3 ak = 0.00709962\nbsum = -0.5413705472591103\n\n"
     ]
    }
   ],
   "source": [
    "import math\n",
    "\n",
    "class element():\n",
    "    def __init__(self, name, num, ek, ak):\n",
    "        self.name = name\n",
    "        self.num = num\n",
    "        self.ek = ek\n",
    "        self.ak = ak\n",
    "\n",
    "H = element('H', 1, 0.014, [])                      #just use H for anything beyond 'num' \n",
    "H.ak = [2.44964, -3.34953, -0.0471370, 0.00709962]\n",
    "\n",
    "He = element('He', 2, 0.025, []) \n",
    "\n",
    "Po = element('Po', 84, 0.0, []) \n",
    "\n",
    "def fakeMuc(mane, z, en): #mane should be the class, not a string?\n",
    "    if z == 84:\n",
    "        print(\"no doc for Po, etc...\")\n",
    "        \n",
    "    elif z > 84: #just as example\n",
    "        print(\"that's too big\")\n",
    "        \n",
    "    elif  z != mane.num:\n",
    "        print('no, it is the wrong number for that element')\n",
    "        \n",
    "    else:\n",
    "        elm = mane.name\n",
    "        print(elm, \"is an excellent choice. The function continues\")\n",
    "        if en == 0:\n",
    "            print(\"can't calculate zero energy\")\n",
    "        else:\n",
    "            e = en\n",
    "            if e < mane.ek and e > mane.ek-0.001:\n",
    "                print(\"goto 39\")\n",
    "                er = 6\n",
    "            else:\n",
    "                print(\"goto 38\")\n",
    "                #38\n",
    "                if e > mane.ek:\n",
    "                    print(\"debug in mucal: a K edge\", e ) #goto 70\n",
    "            ###70   do 400 i=0,3\t! a K edge\n",
    "            #             bsum=ak(i,n)*(log(e))**i\n",
    "            #             belowsum=al(i,n)*(log(e))**i\n",
    "            #           sum=sum+bsum\n",
    "\t        #           sumbelow=sumbelow+belowsum\n",
    "            #  400  continue\n",
    "            #       goto 80\n",
    "            #  80   bax=exp(sum)\n",
    "            #       ba_noedge_x=exp(sumbelow)\n",
    "                    \n",
    "                    for i in range(len(mane.ak)):\n",
    "                        print(i, 'ak =', mane.ak[i])\n",
    "                        bsum = mane.ak[i]*(math.log(e))**i\n",
    "                        print('bsum =', bsum)\n",
    "                        print('')\n",
    "                else: # i don't think there is anything else?\n",
    "                    print(\"\")\n",
    "\n",
    "\n",
    "fakeMuc(H, 1, 0.0144)"
   ]
  },
  {
   "cell_type": "code",
   "execution_count": null,
   "metadata": {},
   "outputs": [],
   "source": []
  }
 ]
}