{
 "metadata": {
  "language_info": {
   "codemirror_mode": {
    "name": "ipython",
    "version": 3
   },
   "file_extension": ".py",
   "mimetype": "text/x-python",
   "name": "python",
   "nbconvert_exporter": "python",
   "pygments_lexer": "ipython3",
   "version": "3.7.6-final"
  },
  "orig_nbformat": 2,
  "kernelspec": {
   "name": "python3",
   "display_name": "Python 3",
   "language": "python"
  }
 },
 "nbformat": 4,
 "nbformat_minor": 2,
 "cells": [
  {
   "cell_type": "code",
   "execution_count": null,
   "metadata": {},
   "outputs": [],
   "source": [
    "while True:\n",
    "    try:\n",
    "        x = int(input(\"Please enter a number: \"))\n",
    "        break\n",
    "    except ValueError:\n",
    "        print(\"Oops!  That was no valid number.  Try again...\")"
   ]
  },
  {
   "cell_type": "code",
   "execution_count": 14,
   "metadata": {},
   "outputs": [
    {
     "output_type": "stream",
     "name": "stdout",
     "text": [
      "no, it is the wrong number for that element\n"
     ]
    }
   ],
   "source": [
    "class element():\n",
    "    def __init__(self, name, num):\n",
    "        self.name = name\n",
    "        self.num = num\n",
    "\n",
    "H = element('H', 1)\n",
    "He = element('He', 2)\n",
    "Po = element('Po', 84)\n",
    "\n",
    "def fakeMuc(mane, z): #mane should be the class, not a string?\n",
    "    if z == 84:\n",
    "        print(\"no doc for Po, ...\")\n",
    "    elif  z != mane.num: #wrong\n",
    "        print('no, it is the wrong number for that element')\n",
    "    else:\n",
    "        elm = mane.name\n",
    "        print(elm, \" is an excellent choice\")\n",
    "    \n",
    "\n",
    "fakeMuc(Po, 1)"
   ]
  },
  {
   "cell_type": "code",
   "execution_count": null,
   "metadata": {},
   "outputs": [],
   "source": []
  }
 ]
}